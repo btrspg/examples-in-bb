{
 "cells": [
  {
   "cell_type": "markdown",
   "metadata": {
    "pycharm": {
     "name": "#%%\n"
    }
   },
   "source": [
    "# Biobase中的ExpressionSet使用方法\n",
    "\n",
    ">The ExpressionSet class is designed to combine several diﬀerent sources of information into a single convenient structure.\n",
    "\n",
    "一般用来做表达数据的存储，所以这个例子中所用到的都是表达数据"
   ]
  },
  {
   "cell_type": "markdown",
   "metadata": {},
   "source": [
    "## 表达数据例子\n",
    "\n",
    "|例子|sample1|sample2|sample3|sample4|sample5|sample6|sample7|sample8|sample9|sample10|sample11|sample12|sample13|sample14|sample15｜\n",
    "|-|--|-----|-----|-----|-----|-----|-----|-----|-----|-----|-----|-----|-----|-----|-----|\n",
    "|gen1|0.769522377|0.366637813|0.793400032|0.626025695|0.141297491|0.792154056|0.581268986|0.103530742|0.508840592|0.008094547|0.923552723|0.48532349|0.390100936|0.42760972|0.369164355｜\n",
    "|gen2|0.917806682|0.373579119|0.548049702|0.0542586|0.677502359|0.548453981|0.866409271|0.852291702|0.915970493|0.943159515|0.642336818|0.618803204|0.318809633|0.847693065|0.899657903｜\n",
    "|gen3|0.1108848|0.281497048|0.46075876|0.47926737|0.818817799|0.590462923|0.730398651|0.283541697|0.566425548|0.101579499|0.344120154|0.371819277|0.733203431|0.938469621|0.247173799｜\n",
    "|gen4|0.179007003|0.989294438|0.214654414|0.667636181|0.409955168|0.200009964|0.024678484|0.711455296|0.765956357|0.131219403|0.660098548|0.862985788|0.622856571|0.212075001|0.514836764｜\n",
    "|gen5|0.831704736|0.86364345|0.178526704|0.988869963|0.20755451|0.080905032|0.600491158|0.039891389|0.562766702|0.999075641|0.964847433|0.041021645|0.370856607|0.852176274|0.980931549｜"
   ]
  },
  {
   "cell_type": "code",
   "execution_count": 1,
   "metadata": {},
   "outputs": [
    {
     "data": {
      "text/html": [
       "<table>\n",
       "<caption>A matrix: 6 x 15 of type dbl</caption>\n",
       "<thead>\n",
       "\t<tr><th></th><th scope=col>sample1</th><th scope=col>sample2</th><th scope=col>sample3</th><th scope=col>sample4</th><th scope=col>sample5</th><th scope=col>sample6</th><th scope=col>sample7</th><th scope=col>sample8</th><th scope=col>sample9</th><th scope=col>sample10</th><th scope=col>sample11</th><th scope=col>sample12</th><th scope=col>sample13</th><th scope=col>sample14</th><th scope=col>sample15</th></tr>\n",
       "</thead>\n",
       "<tbody>\n",
       "\t<tr><th scope=row>gen1</th><td>0.7695224</td><td>0.3666378</td><td>0.7934000</td><td>0.6260257</td><td>0.14129749</td><td>0.79215406</td><td>0.58126899</td><td>0.10353074</td><td>0.5088406</td><td>0.008094547</td><td>0.9235527</td><td>0.48532349</td><td>0.3901009</td><td>0.4276097</td><td>0.3691644</td></tr>\n",
       "\t<tr><th scope=row>gen2</th><td>0.9178067</td><td>0.3735791</td><td>0.5480497</td><td>0.0542586</td><td>0.67750236</td><td>0.54845398</td><td>0.86640927</td><td>0.85229170</td><td>0.9159705</td><td>0.943159515</td><td>0.6423368</td><td>0.61880320</td><td>0.3188096</td><td>0.8476931</td><td>0.8996579</td></tr>\n",
       "\t<tr><th scope=row>gen3</th><td>0.1108848</td><td>0.2814970</td><td>0.4607588</td><td>0.4792674</td><td>0.81881780</td><td>0.59046292</td><td>0.73039865</td><td>0.28354170</td><td>0.5664255</td><td>0.101579499</td><td>0.3441202</td><td>0.37181928</td><td>0.7332034</td><td>0.9384696</td><td>0.2471738</td></tr>\n",
       "\t<tr><th scope=row>gen4</th><td>0.1790070</td><td>0.9892944</td><td>0.2146544</td><td>0.6676362</td><td>0.40995517</td><td>0.20000996</td><td>0.02467848</td><td>0.71145530</td><td>0.7659564</td><td>0.131219403</td><td>0.6600985</td><td>0.86298579</td><td>0.6228566</td><td>0.2120750</td><td>0.5148368</td></tr>\n",
       "\t<tr><th scope=row>gen5</th><td>0.8317047</td><td>0.8636434</td><td>0.1785267</td><td>0.9888700</td><td>0.20755451</td><td>0.08090503</td><td>0.60049116</td><td>0.03989139</td><td>0.5627667</td><td>0.999075641</td><td>0.9648474</td><td>0.04102165</td><td>0.3708566</td><td>0.8521763</td><td>0.9809315</td></tr>\n",
       "\t<tr><th scope=row>gen6</th><td>0.6854022</td><td>0.7831286</td><td>0.7010466</td><td>0.2590483</td><td>0.02755746</td><td>0.04259281</td><td>0.23646048</td><td>0.24510048</td><td>0.1753226</td><td>0.873664574</td><td>0.8385410</td><td>0.21897087</td><td>0.1252479</td><td>0.5538215</td><td>0.4891157</td></tr>\n",
       "</tbody>\n",
       "</table>\n"
      ],
      "text/latex": [
       "A matrix: 6 x 15 of type dbl\n",
       "\\begin{tabular}{r|lllllllllllllll}\n",
       "  & sample1 & sample2 & sample3 & sample4 & sample5 & sample6 & sample7 & sample8 & sample9 & sample10 & sample11 & sample12 & sample13 & sample14 & sample15\\\\\n",
       "\\hline\n",
       "\tgen1 & 0.7695224 & 0.3666378 & 0.7934000 & 0.6260257 & 0.14129749 & 0.79215406 & 0.58126899 & 0.10353074 & 0.5088406 & 0.008094547 & 0.9235527 & 0.48532349 & 0.3901009 & 0.4276097 & 0.3691644\\\\\n",
       "\tgen2 & 0.9178067 & 0.3735791 & 0.5480497 & 0.0542586 & 0.67750236 & 0.54845398 & 0.86640927 & 0.85229170 & 0.9159705 & 0.943159515 & 0.6423368 & 0.61880320 & 0.3188096 & 0.8476931 & 0.8996579\\\\\n",
       "\tgen3 & 0.1108848 & 0.2814970 & 0.4607588 & 0.4792674 & 0.81881780 & 0.59046292 & 0.73039865 & 0.28354170 & 0.5664255 & 0.101579499 & 0.3441202 & 0.37181928 & 0.7332034 & 0.9384696 & 0.2471738\\\\\n",
       "\tgen4 & 0.1790070 & 0.9892944 & 0.2146544 & 0.6676362 & 0.40995517 & 0.20000996 & 0.02467848 & 0.71145530 & 0.7659564 & 0.131219403 & 0.6600985 & 0.86298579 & 0.6228566 & 0.2120750 & 0.5148368\\\\\n",
       "\tgen5 & 0.8317047 & 0.8636434 & 0.1785267 & 0.9888700 & 0.20755451 & 0.08090503 & 0.60049116 & 0.03989139 & 0.5627667 & 0.999075641 & 0.9648474 & 0.04102165 & 0.3708566 & 0.8521763 & 0.9809315\\\\\n",
       "\tgen6 & 0.6854022 & 0.7831286 & 0.7010466 & 0.2590483 & 0.02755746 & 0.04259281 & 0.23646048 & 0.24510048 & 0.1753226 & 0.873664574 & 0.8385410 & 0.21897087 & 0.1252479 & 0.5538215 & 0.4891157\\\\\n",
       "\\end{tabular}\n"
      ],
      "text/markdown": [
       "\n",
       "A matrix: 6 x 15 of type dbl\n",
       "\n",
       "| <!--/--> | sample1 | sample2 | sample3 | sample4 | sample5 | sample6 | sample7 | sample8 | sample9 | sample10 | sample11 | sample12 | sample13 | sample14 | sample15 |\n",
       "|---|---|---|---|---|---|---|---|---|---|---|---|---|---|---|---|\n",
       "| gen1 | 0.7695224 | 0.3666378 | 0.7934000 | 0.6260257 | 0.14129749 | 0.79215406 | 0.58126899 | 0.10353074 | 0.5088406 | 0.008094547 | 0.9235527 | 0.48532349 | 0.3901009 | 0.4276097 | 0.3691644 |\n",
       "| gen2 | 0.9178067 | 0.3735791 | 0.5480497 | 0.0542586 | 0.67750236 | 0.54845398 | 0.86640927 | 0.85229170 | 0.9159705 | 0.943159515 | 0.6423368 | 0.61880320 | 0.3188096 | 0.8476931 | 0.8996579 |\n",
       "| gen3 | 0.1108848 | 0.2814970 | 0.4607588 | 0.4792674 | 0.81881780 | 0.59046292 | 0.73039865 | 0.28354170 | 0.5664255 | 0.101579499 | 0.3441202 | 0.37181928 | 0.7332034 | 0.9384696 | 0.2471738 |\n",
       "| gen4 | 0.1790070 | 0.9892944 | 0.2146544 | 0.6676362 | 0.40995517 | 0.20000996 | 0.02467848 | 0.71145530 | 0.7659564 | 0.131219403 | 0.6600985 | 0.86298579 | 0.6228566 | 0.2120750 | 0.5148368 |\n",
       "| gen5 | 0.8317047 | 0.8636434 | 0.1785267 | 0.9888700 | 0.20755451 | 0.08090503 | 0.60049116 | 0.03989139 | 0.5627667 | 0.999075641 | 0.9648474 | 0.04102165 | 0.3708566 | 0.8521763 | 0.9809315 |\n",
       "| gen6 | 0.6854022 | 0.7831286 | 0.7010466 | 0.2590483 | 0.02755746 | 0.04259281 | 0.23646048 | 0.24510048 | 0.1753226 | 0.873664574 | 0.8385410 | 0.21897087 | 0.1252479 | 0.5538215 | 0.4891157 |\n",
       "\n"
      ],
      "text/plain": [
       "     sample1   sample2   sample3   sample4   sample5    sample6    sample7   \n",
       "gen1 0.7695224 0.3666378 0.7934000 0.6260257 0.14129749 0.79215406 0.58126899\n",
       "gen2 0.9178067 0.3735791 0.5480497 0.0542586 0.67750236 0.54845398 0.86640927\n",
       "gen3 0.1108848 0.2814970 0.4607588 0.4792674 0.81881780 0.59046292 0.73039865\n",
       "gen4 0.1790070 0.9892944 0.2146544 0.6676362 0.40995517 0.20000996 0.02467848\n",
       "gen5 0.8317047 0.8636434 0.1785267 0.9888700 0.20755451 0.08090503 0.60049116\n",
       "gen6 0.6854022 0.7831286 0.7010466 0.2590483 0.02755746 0.04259281 0.23646048\n",
       "     sample8    sample9   sample10    sample11  sample12   sample13  sample14 \n",
       "gen1 0.10353074 0.5088406 0.008094547 0.9235527 0.48532349 0.3901009 0.4276097\n",
       "gen2 0.85229170 0.9159705 0.943159515 0.6423368 0.61880320 0.3188096 0.8476931\n",
       "gen3 0.28354170 0.5664255 0.101579499 0.3441202 0.37181928 0.7332034 0.9384696\n",
       "gen4 0.71145530 0.7659564 0.131219403 0.6600985 0.86298579 0.6228566 0.2120750\n",
       "gen5 0.03989139 0.5627667 0.999075641 0.9648474 0.04102165 0.3708566 0.8521763\n",
       "gen6 0.24510048 0.1753226 0.873664574 0.8385410 0.21897087 0.1252479 0.5538215\n",
       "     sample15 \n",
       "gen1 0.3691644\n",
       "gen2 0.8996579\n",
       "gen3 0.2471738\n",
       "gen4 0.5148368\n",
       "gen5 0.9809315\n",
       "gen6 0.4891157"
      ]
     },
     "metadata": {},
     "output_type": "display_data"
    }
   ],
   "source": [
    "exp_demo=as.matrix(read.csv('demoExpression.csv',quote='',row.names=1))\n",
    "head(exp_demo)"
   ]
  },
  {
   "cell_type": "markdown",
   "metadata": {},
   "source": [
    "## 样本临床信息\n",
    "\n",
    "|Sample|Type|Age|Gender|\n",
    "|------|----|---|------|\n",
    "|sample1|Case|18|F|\n",
    "|sample2|Case|33|M|\n",
    "|sample3|Case|24|F|\n",
    "|sample4|Case|35|F|\n",
    "|sample5|Case|56|F|\n",
    "|sample6|Case|44|F|"
   ]
  },
  {
   "cell_type": "code",
   "execution_count": 2,
   "metadata": {},
   "outputs": [
    {
     "data": {
      "text/html": [
       "<table>\n",
       "<caption>A data.frame: 6 x 3</caption>\n",
       "<thead>\n",
       "\t<tr><th></th><th scope=col>Type</th><th scope=col>Age</th><th scope=col>Gender</th></tr>\n",
       "\t<tr><th></th><th scope=col>&lt;fct&gt;</th><th scope=col>&lt;int&gt;</th><th scope=col>&lt;fct&gt;</th></tr>\n",
       "</thead>\n",
       "<tbody>\n",
       "\t<tr><th scope=row>sample1</th><td>Case</td><td>18</td><td>F</td></tr>\n",
       "\t<tr><th scope=row>sample2</th><td>Case</td><td>33</td><td>M</td></tr>\n",
       "\t<tr><th scope=row>sample3</th><td>Case</td><td>24</td><td>F</td></tr>\n",
       "\t<tr><th scope=row>sample4</th><td>Case</td><td>35</td><td>F</td></tr>\n",
       "\t<tr><th scope=row>sample5</th><td>Case</td><td>56</td><td>F</td></tr>\n",
       "\t<tr><th scope=row>sample6</th><td>Case</td><td>44</td><td>F</td></tr>\n",
       "</tbody>\n",
       "</table>\n"
      ],
      "text/latex": [
       "A data.frame: 6 x 3\n",
       "\\begin{tabular}{r|lll}\n",
       "  & Type & Age & Gender\\\\\n",
       "  & <fct> & <int> & <fct>\\\\\n",
       "\\hline\n",
       "\tsample1 & Case & 18 & F\\\\\n",
       "\tsample2 & Case & 33 & M\\\\\n",
       "\tsample3 & Case & 24 & F\\\\\n",
       "\tsample4 & Case & 35 & F\\\\\n",
       "\tsample5 & Case & 56 & F\\\\\n",
       "\tsample6 & Case & 44 & F\\\\\n",
       "\\end{tabular}\n"
      ],
      "text/markdown": [
       "\n",
       "A data.frame: 6 x 3\n",
       "\n",
       "| <!--/--> | Type &lt;fct&gt; | Age &lt;int&gt; | Gender &lt;fct&gt; |\n",
       "|---|---|---|---|\n",
       "| sample1 | Case | 18 | F |\n",
       "| sample2 | Case | 33 | M |\n",
       "| sample3 | Case | 24 | F |\n",
       "| sample4 | Case | 35 | F |\n",
       "| sample5 | Case | 56 | F |\n",
       "| sample6 | Case | 44 | F |\n",
       "\n"
      ],
      "text/plain": [
       "        Type Age Gender\n",
       "sample1 Case 18  F     \n",
       "sample2 Case 33  M     \n",
       "sample3 Case 24  F     \n",
       "sample4 Case 35  F     \n",
       "sample5 Case 56  F     \n",
       "sample6 Case 44  F     "
      ]
     },
     "metadata": {},
     "output_type": "display_data"
    }
   ],
   "source": [
    "info_demo=read.csv('demoClinicalInfo.csv',quote='',row.names=1)\n",
    "head(info_demo)"
   ]
  },
  {
   "cell_type": "code",
   "execution_count": 3,
   "metadata": {},
   "outputs": [
    {
     "data": {
      "text/plain": [
       "      Type        Age        Gender\n",
       " Case   :8   Min.   :18.00   F:8   \n",
       " Control:7   1st Qu.:23.50   M:7   \n",
       "             Median :35.00         \n",
       "             Mean   :36.07         \n",
       "             3rd Qu.:43.00         \n",
       "             Max.   :60.00         "
      ]
     },
     "metadata": {},
     "output_type": "display_data"
    }
   ],
   "source": [
    "summary(info_demo)"
   ]
  },
  {
   "cell_type": "code",
   "execution_count": 4,
   "metadata": {},
   "outputs": [
    {
     "name": "stderr",
     "output_type": "stream",
     "text": [
      "Loading required package: BiocGenerics\n",
      "\n",
      "Loading required package: parallel\n",
      "\n",
      "\n",
      "Attaching package: 'BiocGenerics'\n",
      "\n",
      "\n",
      "The following objects are masked from 'package:parallel':\n",
      "\n",
      "    clusterApply, clusterApplyLB, clusterCall, clusterEvalQ,\n",
      "    clusterExport, clusterMap, parApply, parCapply, parLapply,\n",
      "    parLapplyLB, parRapply, parSapply, parSapplyLB\n",
      "\n",
      "\n",
      "The following objects are masked from 'package:stats':\n",
      "\n",
      "    IQR, mad, sd, var, xtabs\n",
      "\n",
      "\n",
      "The following objects are masked from 'package:base':\n",
      "\n",
      "    Filter, Find, Map, Position, Reduce, anyDuplicated, append,\n",
      "    as.data.frame, basename, cbind, colnames, dirname, do.call,\n",
      "    duplicated, eval, evalq, get, grep, grepl, intersect, is.unsorted,\n",
      "    lapply, mapply, match, mget, order, paste, pmax, pmax.int, pmin,\n",
      "    pmin.int, rank, rbind, rownames, sapply, setdiff, sort, table,\n",
      "    tapply, union, unique, unsplit, which, which.max, which.min\n",
      "\n",
      "\n",
      "Welcome to Bioconductor\n",
      "\n",
      "    Vignettes contain introductory material; view with\n",
      "    'browseVignettes()'. To cite Bioconductor, see\n",
      "    'citation(\"Biobase\")', and for packages 'citation(\"pkgname\")'.\n",
      "\n",
      "\n"
     ]
    },
    {
     "data": {
      "text/plain": [
       "ExpressionSet (storageMode: lockedEnvironment)\n",
       "assayData: 34 features, 15 samples \n",
       "  element names: exprs \n",
       "protocolData: none\n",
       "phenoData: none\n",
       "featureData: none\n",
       "experimentData: use 'experimentData(object)'\n",
       "Annotation:  "
      ]
     },
     "metadata": {},
     "output_type": "display_data"
    }
   ],
   "source": [
    "library(Biobase)\n",
    "first_expressionSet = ExpressionSet(assayData=exp_demo)\n",
    "first_expressionSet"
   ]
  },
  {
   "cell_type": "code",
   "execution_count": 5,
   "metadata": {},
   "outputs": [
    {
     "data": {
      "text/html": [
       "TRUE"
      ],
      "text/latex": [
       "TRUE"
      ],
      "text/markdown": [
       "TRUE"
      ],
      "text/plain": [
       "[1] TRUE"
      ]
     },
     "metadata": {},
     "output_type": "display_data"
    }
   ],
   "source": [
    "all(rownames(info_demo)==colnames(exp_demo))"
   ]
  },
  {
   "cell_type": "code",
   "execution_count": 6,
   "metadata": {},
   "outputs": [],
   "source": [
    "metadata <- data.frame(labelDescription=c(\"patient type, case means liver cancer sample and control means while cells sample\",\n",
    "                                          \"age\",  \n",
    "                                          \"gender, F=Female M=Male\"), \n",
    "                                          row.names=c(\"Type\", \"Age\", \"Gender\"))"
   ]
  },
  {
   "cell_type": "code",
   "execution_count": 7,
   "metadata": {},
   "outputs": [
    {
     "data": {
      "text/plain": [
       "An object of class 'AnnotatedDataFrame'\n",
       "  rowNames: sample1 sample2 ... sample15 (15 total)\n",
       "  varLabels: Type Age Gender\n",
       "  varMetadata: labelDescription"
      ]
     },
     "metadata": {},
     "output_type": "display_data"
    }
   ],
   "source": [
    "phenoData <- new(\"AnnotatedDataFrame\", \n",
    "                 data=info_demo, varMetadata=metadata)\n",
    "phenoData"
   ]
  },
  {
   "cell_type": "code",
   "execution_count": 8,
   "metadata": {},
   "outputs": [
    {
     "data": {
      "text/plain": [
       "ExpressionSet (storageMode: lockedEnvironment)\n",
       "assayData: 34 features, 15 samples \n",
       "  element names: exprs \n",
       "protocolData: none\n",
       "phenoData\n",
       "  sampleNames: sample1 sample2 ... sample15 (15 total)\n",
       "  varLabels: Type Age Gender\n",
       "  varMetadata: labelDescription\n",
       "featureData: none\n",
       "experimentData: use 'experimentData(object)'\n",
       "Annotation:  "
      ]
     },
     "metadata": {},
     "output_type": "display_data"
    }
   ],
   "source": [
    "exampleSet <- ExpressionSet(assayData=exp_demo, \n",
    "                            phenoData=phenoData)\n",
    "exampleSet"
   ]
  },
  {
   "cell_type": "code",
   "execution_count": 9,
   "metadata": {},
   "outputs": [],
   "source": [
    "# 我想加入一些该试验的描述信息，下面用到中文的地方只是为了表示这个位置可以写入信息，最好别用中文。\n",
    "experimentData <- new(\"MIAME\", \n",
    "                      name=\"生信小白板\", \n",
    "                      lab=\"自由主义的实验室\", \n",
    "                      contact=\"bioinfo.board@xxxx.com\", \n",
    "                      title=\"Smoking-Cancer Experiment\", \n",
    "                      abstract=\"Biobase is part of the Bioconductor project, and is used by many other packages. Biobase contains standardized data structures to represent genomic data. The ExpressionSet class is designed to combine several diﬀerent sources of information into a single convenient structure. An ExpressionSet can be manipulated (e.g., subsetted, copied) conveniently, and is the input or output from many Bioconductor functions.\", \n",
    "                      url=\"www.lab.not.exist\", \n",
    "                      other=list( notes=\"Created from text files \" ))\n",
    "\n"
   ]
  },
  {
   "cell_type": "code",
   "execution_count": 10,
   "metadata": {},
   "outputs": [],
   "source": [
    "exampleSet <- ExpressionSet(assayData=exp_demo, \n",
    "                            phenoData=phenoData, \n",
    "                            experimentData=experimentData, \n",
    "                            annotation=\"human\")"
   ]
  },
  {
   "cell_type": "code",
   "execution_count": 11,
   "metadata": {},
   "outputs": [
    {
     "data": {
      "text/plain": [
       "ExpressionSet (storageMode: lockedEnvironment)\n",
       "assayData: 34 features, 15 samples \n",
       "  element names: exprs \n",
       "protocolData: none\n",
       "phenoData\n",
       "  sampleNames: sample1 sample2 ... sample15 (15 total)\n",
       "  varLabels: Type Age Gender\n",
       "  varMetadata: labelDescription\n",
       "featureData: none\n",
       "experimentData: use 'experimentData(object)'\n",
       "Annotation: human "
      ]
     },
     "metadata": {},
     "output_type": "display_data"
    }
   ],
   "source": [
    "exampleSet"
   ]
  },
  {
   "cell_type": "code",
   "execution_count": 12,
   "metadata": {},
   "outputs": [
    {
     "data": {
      "text/plain": [
       "Experiment data\n",
       "  Experimenter name: <U+751F><U+4FE1><U+5C0F><U+767D><U+677F> \n",
       "  Laboratory: <U+81EA><U+7531><U+4E3B><U+4E49><U+7684><U+5B9E><U+9A8C><U+5BA4> \n",
       "  Contact information: bioinfo.board@xxxx.com \n",
       "  Title: Smoking-Cancer Experiment \n",
       "  URL: www.lab.not.exist \n",
       "  PMIDs:  \n",
       "\n",
       "  Abstract: A 59 word abstract is available. Use 'abstract' method.\n",
       "  notes:\n",
       "   notes:     \n",
       "      Created from text files "
      ]
     },
     "metadata": {},
     "output_type": "display_data"
    }
   ],
   "source": [
    "experimentData(exampleSet)"
   ]
  },
  {
   "cell_type": "code",
   "execution_count": 13,
   "metadata": {},
   "outputs": [
    {
     "name": "stdout",
     "output_type": "stream",
     "text": [
      "Biobase is part of the Bioconductor project, and is used by many other packages. Biobase contains standardized data structures to represent genomic data. The ExpressionSet class is designed to combine several di<U+FB00>erent sources of information into a single convenient structure. An ExpressionSet can be manipulated (e.g., subsetted, copied) conveniently, and is the input or output from many Bioconductor functions."
     ]
    }
   ],
   "source": [
    "cat(abstract(exampleSet))"
   ]
  },
  {
   "cell_type": "code",
   "execution_count": 14,
   "metadata": {},
   "outputs": [],
   "source": [
    "saveRDS(exampleSet, file = \"demo.rds\")"
   ]
  },
  {
   "cell_type": "code",
   "execution_count": 15,
   "metadata": {},
   "outputs": [
    {
     "data": {
      "text/plain": [
       "ExpressionSet (storageMode: lockedEnvironment)\n",
       "assayData: 34 features, 15 samples \n",
       "  element names: exprs \n",
       "protocolData: none\n",
       "phenoData\n",
       "  sampleNames: sample1 sample2 ... sample15 (15 total)\n",
       "  varLabels: Type Age Gender\n",
       "  varMetadata: labelDescription\n",
       "featureData: none\n",
       "experimentData: use 'experimentData(object)'\n",
       "Annotation: human "
      ]
     },
     "metadata": {},
     "output_type": "display_data"
    }
   ],
   "source": [
    "new_demo=readRDS('demo.rds')\n",
    "new_demo"
   ]
  },
  {
   "cell_type": "code",
   "execution_count": null,
   "metadata": {},
   "outputs": [],
   "source": [
    " "
   ]
  },
  {
   "cell_type": "code",
   "execution_count": null,
   "metadata": {},
   "outputs": [],
   "source": []
  }
 ],
 "metadata": {
  "kernelspec": {
   "display_name": "R",
   "language": "R",
   "name": "ir"
  },
  "language_info": {
   "codemirror_mode": "r",
   "file_extension": ".r",
   "mimetype": "text/x-r-source",
   "name": "R",
   "pygments_lexer": "r",
   "version": "3.6.2"
  },
  "pycharm": {
   "stem_cell": {
    "cell_type": "raw",
    "metadata": {
     "collapsed": false
    },
    "source": []
   }
  }
 },
 "nbformat": 4,
 "nbformat_minor": 2
}
